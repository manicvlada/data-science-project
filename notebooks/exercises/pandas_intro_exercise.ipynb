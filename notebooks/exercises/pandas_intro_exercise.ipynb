{
 "cells": [
  {
   "cell_type": "markdown",
   "id": "770a499f-fa07-4ca0-8ddd-c50e76eb0599",
   "metadata": {
    "tags": []
   },
   "source": [
    "# Pandas\n",
    "\n",
    "\n",
    "--- "
   ]
  },
  {
   "cell_type": "markdown",
   "id": "04a87a63",
   "metadata": {},
   "source": [
    "#### Exercise 1.1\n",
    "##### Create a DataFrame by reading in the `2019_Yellow_Taxi_Trip_Data.csv` file. Examine the first 5 rows."
   ]
  },
  {
   "cell_type": "code",
   "execution_count": 1,
   "id": "aa449dc1-4c0b-47ce-bba7-061568590d97",
   "metadata": {},
   "outputs": [],
   "source": [
    "import pandas as pd\n",
    "df = pd.read_csv('/Users/vlados/Documents/Uni/Data Science /data-science-project/data-science-project/notebooks/exercises/data/2019_Yellow_Taxi_Trip_Data.csv')"
   ]
  },
  {
   "cell_type": "code",
   "execution_count": 16,
   "id": "3e1ea753-d8ad-46a9-b2de-63da8a9ea746",
   "metadata": {},
   "outputs": [],
   "source": [
    "assert type(df) == pd.core.frame.DataFrame\n"
   ]
  },
  {
   "cell_type": "markdown",
   "id": "4d52808c-cb6b-4a2b-a183-5c886bbe6b85",
   "metadata": {},
   "source": [
    "#### Exercise 1.2\n",
    "##### Find the dimensions (number of rows and number of columns) in the data."
   ]
  },
  {
   "cell_type": "code",
   "execution_count": 3,
   "id": "f4e7275f-4009-4cc9-911d-da92efb79fdd",
   "metadata": {},
   "outputs": [],
   "source": [
    "shape = df.shape"
   ]
  },
  {
   "cell_type": "code",
   "execution_count": 4,
   "id": "ae1c4c8d-c334-4bef-88ad-7d435c73463a",
   "metadata": {},
   "outputs": [],
   "source": [
    "assert shape == (10000, 18)"
   ]
  },
  {
   "cell_type": "markdown",
   "id": "b4e9aa37-a244-4e4c-8caa-9d13ca8c7f71",
   "metadata": {
    "tags": []
   },
   "source": [
    "#### Exercise 1.3\n",
    "##### Using the data in the `2019_Yellow_Taxi_Trip_Data.csv` file, calculate summary statistics for the `fare_amount`, `tip_amount`, `tolls_amount`, and `total_amount` columns."
   ]
  },
  {
   "cell_type": "code",
   "execution_count": 5,
   "id": "8577fc58-fd5f-412b-aa2e-50c541c5778b",
   "metadata": {},
   "outputs": [],
   "source": [
    "# fare_amount\n",
    "fare_amount_mean = df['fare_amount'].mean()\n",
    "fare_amount_median = df['fare_amount'].median()\n",
    "fare_amount_variance = df['fare_amount'].var()"
   ]
  },
  {
   "cell_type": "code",
   "execution_count": 6,
   "id": "cbbebdc0-fd67-4357-9b62-cabc5d3b59a3",
   "metadata": {},
   "outputs": [],
   "source": [
    "# tip_amount\n",
    "tip_amount_mean = df['tip_amount'].mean()\n",
    "tip_amount_median = df['tip_amount'].median()\n",
    "tip_amount_variance = df['tip_amount'].var()"
   ]
  },
  {
   "cell_type": "code",
   "execution_count": 7,
   "id": "653b91b7-21cd-4a90-a8f0-e4012f53aadd",
   "metadata": {},
   "outputs": [],
   "source": [
    "# tolls_amount\n",
    "tip_amount_mean = df['tolls_amount'].mean()\n",
    "tip_amount_median = df['tolls_amount'].median()    \n",
    "tip_amount_variance = df['tolls_amount'].var()"
   ]
  },
  {
   "cell_type": "code",
   "execution_count": 8,
   "id": "efdc7251-6557-4c8e-917f-68961925f56f",
   "metadata": {},
   "outputs": [],
   "source": [
    "# total_amount\n",
    "total_amount_mean = df['total_amount'].mean()\n",
    "total_amount_median = df['total_amount'].median()\n",
    "total_amount_variance = df['total_amount'].var()"
   ]
  },
  {
   "cell_type": "code",
   "execution_count": 9,
   "id": "95fce9bf-5473-45bb-8be9-2637cc9b638e",
   "metadata": {},
   "outputs": [],
   "source": [
    "assert fare_amount_mean == 15.106313\n",
    "assert tip_amount_median == 0.0\n",
    "assert int(tip_amount_variance) == 41\n",
    "assert int(total_amount_mean) == 22"
   ]
  },
  {
   "cell_type": "markdown",
   "id": "4fbf547b-a273-4327-b17a-2c10a58b96bc",
   "metadata": {
    "tags": []
   },
   "source": [
    "#### Exercise 1.4\n",
    "##### Isolate the `fare_amount`, `tip_amount`, `tolls_amount`, and `total_amount` for the longest trip by distance (`trip_distance`)."
   ]
  },
  {
   "cell_type": "code",
   "execution_count": 13,
   "id": "dc75ecfc-19b5-438b-b078-eaf7cfc3e7f3",
   "metadata": {},
   "outputs": [
    {
     "data": {
      "text/plain": [
       "201.21"
      ]
     },
     "execution_count": 13,
     "metadata": {},
     "output_type": "execute_result"
    }
   ],
   "source": [
    "longest_distance = df['trip_distance'].idxmax()\n",
    "longest_trip_fare_amount = df['fare_amount'].loc[longest_distance]\n",
    "longest_trip_tip_amount = df['tip_amount'].loc[longest_distance]\n",
    "longest_trip_tolls_amount = df['tolls_amount'].loc[longest_distance]\n",
    "longest_trip_total_amount = df['total_amount'].loc[longest_distance]"
   ]
  },
  {
   "cell_type": "code",
   "execution_count": 30,
   "id": "30d91e35-6632-4c43-a8f1-9fc4b368812e",
   "metadata": {},
   "outputs": [
    {
     "ename": "ValueError",
     "evalue": "The truth value of a Series is ambiguous. Use a.empty, a.bool(), a.item(), a.any() or a.all().",
     "output_type": "error",
     "traceback": [
      "\u001b[0;31m---------------------------------------------------------------------------\u001b[0m",
      "\u001b[0;31mValueError\u001b[0m                                Traceback (most recent call last)",
      "\u001b[0;32m/var/folders/8p/fnmrg8j94bg2tg58h7j5lbwh0000gn/T/ipykernel_10614/2566049053.py\u001b[0m in \u001b[0;36m?\u001b[0;34m()\u001b[0m\n\u001b[0;32m----> 1\u001b[0;31m \u001b[0;32massert\u001b[0m \u001b[0mlongest_trip_fare_amount\u001b[0m \u001b[0;34m==\u001b[0m \u001b[0;36m176.0\u001b[0m\u001b[0;34m\u001b[0m\u001b[0;34m\u001b[0m\u001b[0m\n\u001b[0m\u001b[1;32m      2\u001b[0m \u001b[0;32massert\u001b[0m \u001b[0mlongest_trip_tip_amount\u001b[0m \u001b[0;34m==\u001b[0m \u001b[0;36m18.29\u001b[0m\u001b[0;34m\u001b[0m\u001b[0;34m\u001b[0m\u001b[0m\n\u001b[1;32m      3\u001b[0m \u001b[0;32massert\u001b[0m \u001b[0mlongest_trip_tolls_amount\u001b[0m \u001b[0;34m==\u001b[0m \u001b[0;36m6.12\u001b[0m\u001b[0;34m\u001b[0m\u001b[0;34m\u001b[0m\u001b[0m\n\u001b[1;32m      4\u001b[0m \u001b[0;32massert\u001b[0m \u001b[0mlongest_trip_total_amount\u001b[0m \u001b[0;34m==\u001b[0m \u001b[0;36m201.21\u001b[0m\u001b[0;34m\u001b[0m\u001b[0;34m\u001b[0m\u001b[0m\n",
      "\u001b[0;32m~/Library/Caches/pypoetry/virtualenvs/data-science-project-_eavDxwn-py3.12/lib/python3.12/site-packages/pandas/core/generic.py\u001b[0m in \u001b[0;36m?\u001b[0;34m(self)\u001b[0m\n\u001b[1;32m   1574\u001b[0m     \u001b[0;34m@\u001b[0m\u001b[0mfinal\u001b[0m\u001b[0;34m\u001b[0m\u001b[0;34m\u001b[0m\u001b[0m\n\u001b[1;32m   1575\u001b[0m     \u001b[0;32mdef\u001b[0m \u001b[0m__nonzero__\u001b[0m\u001b[0;34m(\u001b[0m\u001b[0mself\u001b[0m\u001b[0;34m)\u001b[0m \u001b[0;34m->\u001b[0m \u001b[0mNoReturn\u001b[0m\u001b[0;34m:\u001b[0m\u001b[0;34m\u001b[0m\u001b[0;34m\u001b[0m\u001b[0m\n\u001b[0;32m-> 1576\u001b[0;31m         raise ValueError(\n\u001b[0m\u001b[1;32m   1577\u001b[0m             \u001b[0;34mf\"\u001b[0m\u001b[0;34mThe truth value of a \u001b[0m\u001b[0;34m{\u001b[0m\u001b[0mtype\u001b[0m\u001b[0;34m(\u001b[0m\u001b[0mself\u001b[0m\u001b[0;34m)\u001b[0m\u001b[0;34m.\u001b[0m\u001b[0m__name__\u001b[0m\u001b[0;34m}\u001b[0m\u001b[0;34m is ambiguous. \u001b[0m\u001b[0;34m\"\u001b[0m\u001b[0;34m\u001b[0m\u001b[0;34m\u001b[0m\u001b[0m\n\u001b[1;32m   1578\u001b[0m             \u001b[0;34m\"Use a.empty, a.bool(), a.item(), a.any() or a.all().\"\u001b[0m\u001b[0;34m\u001b[0m\u001b[0;34m\u001b[0m\u001b[0m\n\u001b[1;32m   1579\u001b[0m         \u001b[0;34m)\u001b[0m\u001b[0;34m\u001b[0m\u001b[0;34m\u001b[0m\u001b[0m\n",
      "\u001b[0;31mValueError\u001b[0m: The truth value of a Series is ambiguous. Use a.empty, a.bool(), a.item(), a.any() or a.all()."
     ]
    }
   ],
   "source": [
    "assert longest_trip_fare_amount.item() == 176.0\n",
    "assert longest_trip_tip_amount.item() == 18.29\n",
    "assert longest_trip_tolls_amount.item() == 6.12\n",
    "assert longest_trip_total_amount.item() == 201.21\n"
   ]
  },
  {
   "cell_type": "code",
   "execution_count": null,
   "id": "c7ac3c03-34aa-4468-96b4-0c07f81ad0d5",
   "metadata": {},
   "outputs": [],
   "source": []
  }
 ],
 "metadata": {
  "kernelspec": {
   "display_name": "Python 3 (ipykernel)",
   "language": "python",
   "name": "python3"
  },
  "language_info": {
   "codemirror_mode": {
    "name": "ipython",
    "version": 3
   },
   "file_extension": ".py",
   "mimetype": "text/x-python",
   "name": "python",
   "nbconvert_exporter": "python",
   "pygments_lexer": "ipython3",
   "version": "3.12.2"
  }
 },
 "nbformat": 4,
 "nbformat_minor": 5
}
