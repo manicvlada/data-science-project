{
 "cells": [
  {
   "cell_type": "markdown",
   "id": "770a499f-fa07-4ca0-8ddd-c50e76eb0599",
   "metadata": {
    "tags": []
   },
   "source": [
    "# Pandas\n",
    "\n",
    "\n",
    "--- "
   ]
  },
  {
   "cell_type": "markdown",
   "id": "04a87a63",
   "metadata": {},
   "source": [
    "#### Exercise 1.1\n",
    "##### Create a DataFrame by reading in the `2019_Yellow_Taxi_Trip_Data.csv` file. Examine the first 5 rows."
   ]
  },
  {
   "cell_type": "code",
   "execution_count": 9,
   "id": "aa449dc1-4c0b-47ce-bba7-061568590d97",
   "metadata": {},
   "outputs": [],
   "source": [
<<<<<<< HEAD
    "import pandas as pd\n",
    "data = pd.read_csv('/Users/vlados/Documents/Uni/Data Science /data-science-project/data-science-project/notebooks/exercises/data/2019_Yellow_Taxi_Trip_Data.csv')"
=======
    "df = "
   ]
  },
  {
   "cell_type": "code",
   "execution_count": null,
   "id": "3e1ea753-d8ad-46a9-b2de-63da8a9ea746",
   "metadata": {},
   "outputs": [],
   "source": [
    "assert df.type == pd.core.frame.DataFrame"
>>>>>>> upstream/main
   ]
  },
  {
   "cell_type": "markdown",
   "id": "4d52808c-cb6b-4a2b-a183-5c886bbe6b85",
   "metadata": {},
   "source": [
    "#### Exercise 1.2\n",
    "##### Find the dimensions (number of rows and number of columns) in the data."
   ]
  },
  {
   "cell_type": "code",
   "execution_count": 11,
   "id": "f4e7275f-4009-4cc9-911d-da92efb79fdd",
   "metadata": {},
<<<<<<< HEAD
   "outputs": [
    {
     "data": {
      "text/plain": [
       "(10000, 18)"
      ]
     },
     "execution_count": 11,
     "metadata": {},
     "output_type": "execute_result"
    }
   ],
   "source": [
    "data.shape"
=======
   "outputs": [],
   "source": [
    "shape = #"
   ]
  },
  {
   "cell_type": "code",
   "execution_count": null,
   "id": "ae1c4c8d-c334-4bef-88ad-7d435c73463a",
   "metadata": {},
   "outputs": [],
   "source": [
    "assert shape == (10000, 18)"
>>>>>>> upstream/main
   ]
  },
  {
   "cell_type": "markdown",
   "id": "b4e9aa37-a244-4e4c-8caa-9d13ca8c7f71",
   "metadata": {
    "tags": []
   },
   "source": [
    "#### Exercise 1.3\n",
    "##### Using the data in the `2019_Yellow_Taxi_Trip_Data.csv` file, calculate summary statistics for the `fare_amount`, `tip_amount`, `tolls_amount`, and `total_amount` columns."
   ]
  },
  {
   "cell_type": "code",
   "execution_count": 17,
   "id": "8577fc58-fd5f-412b-aa2e-50c541c5778b",
   "metadata": {},
<<<<<<< HEAD
   "outputs": [
    {
     "data": {
      "text/html": [
       "<div>\n",
       "<style scoped>\n",
       "    .dataframe tbody tr th:only-of-type {\n",
       "        vertical-align: middle;\n",
       "    }\n",
       "\n",
       "    .dataframe tbody tr th {\n",
       "        vertical-align: top;\n",
       "    }\n",
       "\n",
       "    .dataframe thead th {\n",
       "        text-align: right;\n",
       "    }\n",
       "</style>\n",
       "<table border=\"1\" class=\"dataframe\">\n",
       "  <thead>\n",
       "    <tr style=\"text-align: right;\">\n",
       "      <th></th>\n",
       "      <th>fare_amount</th>\n",
       "      <th>tip_amount</th>\n",
       "      <th>tolls_amount</th>\n",
       "      <th>total_amount</th>\n",
       "    </tr>\n",
       "  </thead>\n",
       "  <tbody>\n",
       "    <tr>\n",
       "      <th>count</th>\n",
       "      <td>10000.000000</td>\n",
       "      <td>10000.000000</td>\n",
       "      <td>10000.000000</td>\n",
       "      <td>10000.000000</td>\n",
       "    </tr>\n",
       "    <tr>\n",
       "      <th>mean</th>\n",
       "      <td>15.106313</td>\n",
       "      <td>2.634494</td>\n",
       "      <td>0.623447</td>\n",
       "      <td>22.564659</td>\n",
       "    </tr>\n",
       "    <tr>\n",
       "      <th>std</th>\n",
       "      <td>13.954762</td>\n",
       "      <td>3.409800</td>\n",
       "      <td>6.437507</td>\n",
       "      <td>19.209255</td>\n",
       "    </tr>\n",
       "    <tr>\n",
       "      <th>min</th>\n",
       "      <td>-52.000000</td>\n",
       "      <td>0.000000</td>\n",
       "      <td>-6.120000</td>\n",
       "      <td>-65.920000</td>\n",
       "    </tr>\n",
       "    <tr>\n",
       "      <th>25%</th>\n",
       "      <td>7.000000</td>\n",
       "      <td>0.000000</td>\n",
       "      <td>0.000000</td>\n",
       "      <td>12.375000</td>\n",
       "    </tr>\n",
       "    <tr>\n",
       "      <th>50%</th>\n",
       "      <td>10.000000</td>\n",
       "      <td>2.000000</td>\n",
       "      <td>0.000000</td>\n",
       "      <td>16.300000</td>\n",
       "    </tr>\n",
       "    <tr>\n",
       "      <th>75%</th>\n",
       "      <td>16.000000</td>\n",
       "      <td>3.250000</td>\n",
       "      <td>0.000000</td>\n",
       "      <td>22.880000</td>\n",
       "    </tr>\n",
       "    <tr>\n",
       "      <th>max</th>\n",
       "      <td>176.000000</td>\n",
       "      <td>43.000000</td>\n",
       "      <td>612.000000</td>\n",
       "      <td>671.800000</td>\n",
       "    </tr>\n",
       "  </tbody>\n",
       "</table>\n",
       "</div>"
      ],
      "text/plain": [
       "        fare_amount    tip_amount  tolls_amount  total_amount\n",
       "count  10000.000000  10000.000000  10000.000000  10000.000000\n",
       "mean      15.106313      2.634494      0.623447     22.564659\n",
       "std       13.954762      3.409800      6.437507     19.209255\n",
       "min      -52.000000      0.000000     -6.120000    -65.920000\n",
       "25%        7.000000      0.000000      0.000000     12.375000\n",
       "50%       10.000000      2.000000      0.000000     16.300000\n",
       "75%       16.000000      3.250000      0.000000     22.880000\n",
       "max      176.000000     43.000000    612.000000    671.800000"
      ]
     },
     "execution_count": 17,
     "metadata": {},
     "output_type": "execute_result"
    }
   ],
   "source": [
    "data[['fare_amount', 'tip_amount', 'tolls_amount', 'total_amount']].describe()"
=======
   "outputs": [],
   "source": [
    "# fare_amount\n",
    "fare_amount_mean = #\n",
    "fare_amount_median = #\n",
    "fare_amount_variance = #"
   ]
  },
  {
   "cell_type": "code",
   "execution_count": null,
   "id": "cbbebdc0-fd67-4357-9b62-cabc5d3b59a3",
   "metadata": {},
   "outputs": [],
   "source": [
    "# tip_amount\n",
    "tip_amount_mean = #\n",
    "tip_amount_median = #\n",
    "tip_amount_variance = #"
   ]
  },
  {
   "cell_type": "code",
   "execution_count": null,
   "id": "653b91b7-21cd-4a90-a8f0-e4012f53aadd",
   "metadata": {},
   "outputs": [],
   "source": [
    "# tolls_amount\n",
    "tip_amount_mean = #\n",
    "tip_amount_median = #\n",
    "tip_amount_variance = #"
   ]
  },
  {
   "cell_type": "code",
   "execution_count": null,
   "id": "efdc7251-6557-4c8e-917f-68961925f56f",
   "metadata": {},
   "outputs": [],
   "source": [
    "# total_amount\n",
    "total_amount_mean = #\n",
    "total_amount_median = #\n",
    "total_amount_variance = #"
   ]
  },
  {
   "cell_type": "code",
   "execution_count": null,
   "id": "95fce9bf-5473-45bb-8be9-2637cc9b638e",
   "metadata": {},
   "outputs": [],
   "source": [
    "assert fare_amount_mean == 15.106313\n",
    "assert tip_amount_median == 0.0\n",
    "assert int(tip_amount_variance) == 41\n",
    "assert int(total_amount_mean) == 22"
>>>>>>> upstream/main
   ]
  },
  {
   "cell_type": "markdown",
   "id": "4fbf547b-a273-4327-b17a-2c10a58b96bc",
   "metadata": {
    "tags": []
   },
   "source": [
    "#### Exercise 1.4\n",
    "##### Isolate the `fare_amount`, `tip_amount`, `tolls_amount`, and `total_amount` for the longest trip by distance (`trip_distance`)."
   ]
  },
  {
   "cell_type": "code",
   "execution_count": 53,
   "id": "dc75ecfc-19b5-438b-b078-eaf7cfc3e7f3",
   "metadata": {},
<<<<<<< HEAD
   "outputs": [
    {
     "name": "stdout",
     "output_type": "stream",
     "text": [
      "      fare_amount  tip_amount  tolls_amount  total_amount\n",
      "8338        176.0       18.29          6.12        201.21\n"
     ]
    }
   ],
   "source": [
    "longest = data[data['trip_distance'] == data['trip_distance'].max()]\n",
    "print(longest.loc[:, ['fare_amount', 'tip_amount', 'tolls_amount', 'total_amount']])"
=======
   "outputs": [],
   "source": [
    "longest_trip_fare_amount = #\n",
    "longest_trip_tip_amount = #\n",
    "longest_trip_tolls_amount = #\n",
    "longest_trip_total_amount = #"
   ]
  },
  {
   "cell_type": "code",
   "execution_count": null,
   "id": "30d91e35-6632-4c43-a8f1-9fc4b368812e",
   "metadata": {},
   "outputs": [],
   "source": [
    "assert longest_trip_fare_amount == 176.0\n",
    "assert longest_trip_tip_amount == 18.29\n",
    "assert longest_trip_tolls_amount == 6.12\n",
    "assert longest_trip_total_amount == 201.21"
>>>>>>> upstream/main
   ]
  }
 ],
 "metadata": {
  "kernelspec": {
   "display_name": "Python 3 (ipykernel)",
   "language": "python",
   "name": "python3"
  },
  "language_info": {
   "codemirror_mode": {
    "name": "ipython",
    "version": 3
   },
   "file_extension": ".py",
   "mimetype": "text/x-python",
   "name": "python",
   "nbconvert_exporter": "python",
   "pygments_lexer": "ipython3",
<<<<<<< HEAD
   "version": "3.12.0"
=======
   "version": "3.11.4"
>>>>>>> upstream/main
  }
 },
 "nbformat": 4,
 "nbformat_minor": 5
}
