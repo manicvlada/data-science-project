{
 "cells": [
  {
   "cell_type": "markdown",
   "id": "cec43059-d42d-4083-b2f1-7260b85d1bd3",
   "metadata": {},
   "source": [
    "#### Exercise 1.1\n",
    "\n",
    "##### Read in the meteorite data from the `Meteorite_Landings.csv` file, rename the `mass (g)` column to `mass`, and drop all the latitude and longitude columns. Sort the result by mass in descending order."
   ]
  },
  {
   "cell_type": "code",
   "execution_count": 7,
   "id": "45c600b8-fd95-4dd0-ac75-47af19a4aac0",
   "metadata": {},
   "outputs": [],
   "source": [
    "import pandas as pd\n",
    "df = pd.read_csv('/Users/vlados/Documents/Uni/Data Science /data-science-project/data-science-project/notebooks/exercises/data/Meteorite_Landings.csv')\n",
    "df.head()\n",
    "df = df.rename(columns = {'mass (g)':'mass'})\n",
    "df = df.drop(columns = ['reclat', 'reclong'])"
   ]
  },
  {
   "cell_type": "code",
   "execution_count": 9,
   "id": "a297b594-b654-4fd1-b560-01b44e918c1e",
   "metadata": {},
   "outputs": [],
   "source": [
    "assert type(df) == pd.core.frame.DataFrame\n",
    "assert 'mass' in df.columns\n",
    "assert 'reclong' not in df.columns\n",
    "assert 'reclat' not in df.columns"
   ]
  },
  {
   "cell_type": "markdown",
   "id": "96975920-5397-41b3-b5f6-fc2a17c69ac5",
   "metadata": {},
   "source": [
    "#### Exercise-1.2\n",
    "\n",
    "##### Using the meteorite data from the `Meteorite_Landings.csv` file, update the `year` column to only contain the year, convert it to a numeric data type, and create a new column indicating whether the meteorite was observed falling before 1970. Set the index to the `id` column and extract all the rows with IDs between 10,036 and 10,040 (inclusive) with `loc[]`.\n",
    "\n",
    "###### **Hint 1**: Use `year.str.slice()` to grab a substring.\n",
    "\n",
    "###### **Hint 2**: Make sure to sort the index before using `loc[]` to select the range.\n",
    "\n",
    "###### **Bonus**: There's a data entry error in the `year` column. Can you find it? (Don't spend too much time on this.) "
   ]
  },
  {
   "cell_type": "raw",
   "id": "72a617c1-2eee-496e-ad86-d01d338cb98b",
   "metadata": {},
   "source": [
    "There are several dates that fall outside pandas Timeseries range, which is why we get an error when transforming our data to_datetime()"
   ]
  },
  {
   "cell_type": "code",
   "execution_count": 92,
   "id": "9a28d9c5-6be4-4213-ac13-03b6253b1736",
   "metadata": {},
   "outputs": [
    {
     "data": {
      "text/html": [
       "<div>\n",
       "<style scoped>\n",
       "    .dataframe tbody tr th:only-of-type {\n",
       "        vertical-align: middle;\n",
       "    }\n",
       "\n",
       "    .dataframe tbody tr th {\n",
       "        vertical-align: top;\n",
       "    }\n",
       "\n",
       "    .dataframe thead th {\n",
       "        text-align: right;\n",
       "    }\n",
       "</style>\n",
       "<table border=\"1\" class=\"dataframe\">\n",
       "  <thead>\n",
       "    <tr style=\"text-align: right;\">\n",
       "      <th></th>\n",
       "      <th>name</th>\n",
       "      <th>nametype</th>\n",
       "      <th>recclass</th>\n",
       "      <th>mass (g)</th>\n",
       "      <th>fall</th>\n",
       "      <th>year</th>\n",
       "      <th>reclat</th>\n",
       "      <th>reclong</th>\n",
       "      <th>GeoLocation</th>\n",
       "      <th>fall_before_1970</th>\n",
       "    </tr>\n",
       "    <tr>\n",
       "      <th>id</th>\n",
       "      <th></th>\n",
       "      <th></th>\n",
       "      <th></th>\n",
       "      <th></th>\n",
       "      <th></th>\n",
       "      <th></th>\n",
       "      <th></th>\n",
       "      <th></th>\n",
       "      <th></th>\n",
       "      <th></th>\n",
       "    </tr>\n",
       "  </thead>\n",
       "  <tbody>\n",
       "    <tr>\n",
       "      <th>10036</th>\n",
       "      <td>Enigma</td>\n",
       "      <td>Valid</td>\n",
       "      <td>H4</td>\n",
       "      <td>94.0</td>\n",
       "      <td>Found</td>\n",
       "      <td>1967.0</td>\n",
       "      <td>31.33333</td>\n",
       "      <td>-82.31667</td>\n",
       "      <td>(31.33333, -82.31667)</td>\n",
       "      <td>1</td>\n",
       "    </tr>\n",
       "    <tr>\n",
       "      <th>10037</th>\n",
       "      <td>Enon</td>\n",
       "      <td>Valid</td>\n",
       "      <td>Iron, ungrouped</td>\n",
       "      <td>763.0</td>\n",
       "      <td>Found</td>\n",
       "      <td>1883.0</td>\n",
       "      <td>39.86667</td>\n",
       "      <td>-83.95000</td>\n",
       "      <td>(39.86667, -83.95)</td>\n",
       "      <td>1</td>\n",
       "    </tr>\n",
       "    <tr>\n",
       "      <th>10038</th>\n",
       "      <td>Enshi</td>\n",
       "      <td>Valid</td>\n",
       "      <td>H5</td>\n",
       "      <td>8000.0</td>\n",
       "      <td>Fell</td>\n",
       "      <td>1974.0</td>\n",
       "      <td>30.30000</td>\n",
       "      <td>109.50000</td>\n",
       "      <td>(30.3, 109.5)</td>\n",
       "      <td>0</td>\n",
       "    </tr>\n",
       "    <tr>\n",
       "      <th>10039</th>\n",
       "      <td>Ensisheim</td>\n",
       "      <td>Valid</td>\n",
       "      <td>LL6</td>\n",
       "      <td>127000.0</td>\n",
       "      <td>Fell</td>\n",
       "      <td>1491.0</td>\n",
       "      <td>47.86667</td>\n",
       "      <td>7.35000</td>\n",
       "      <td>(47.86667, 7.35)</td>\n",
       "      <td>1</td>\n",
       "    </tr>\n",
       "  </tbody>\n",
       "</table>\n",
       "</div>"
      ],
      "text/plain": [
       "            name nametype         recclass  mass (g)   fall    year    reclat  \\\n",
       "id                                                                              \n",
       "10036     Enigma    Valid               H4      94.0  Found  1967.0  31.33333   \n",
       "10037       Enon    Valid  Iron, ungrouped     763.0  Found  1883.0  39.86667   \n",
       "10038      Enshi    Valid               H5    8000.0   Fell  1974.0  30.30000   \n",
       "10039  Ensisheim    Valid              LL6  127000.0   Fell  1491.0  47.86667   \n",
       "\n",
       "         reclong            GeoLocation  fall_before_1970  \n",
       "id                                                         \n",
       "10036  -82.31667  (31.33333, -82.31667)                 1  \n",
       "10037  -83.95000     (39.86667, -83.95)                 1  \n",
       "10038  109.50000          (30.3, 109.5)                 0  \n",
       "10039    7.35000       (47.86667, 7.35)                 1  "
      ]
     },
     "execution_count": 92,
     "metadata": {},
     "output_type": "execute_result"
    }
   ],
   "source": [
    "df = pd.read_csv('/Users/vlados/Documents/Uni/Data Science /data-science-project/data-science-project/notebooks/exercises/data/Meteorite_Landings.csv')\n",
    "df['year'] = df['year'].str.slice(6, 10)\n",
    "df['year'] = df['year'].astype(float)\n",
    "df['fall_before_1970'] = [1 if df['year'][i] < 1970 else 0 for i in range(len(df['year']))]\n",
    "df = df.set_index(\"id\")\n",
    "df = df.sort_index()\n",
    "subset = df.loc[10036:10040]\n",
    "subset\n"
   ]
  },
  {
   "cell_type": "code",
   "execution_count": 93,
   "id": "e5469d51-17df-41a7-a320-0811593ae80e",
   "metadata": {},
   "outputs": [],
   "source": [
    "assert df.year.dtype == 'float64'\n",
    "assert df.index.name == 'id'\n",
    "subset = subset.rename(columns = {'mass (g)': 'mass'})\n",
    "assert subset.mass.mean() == 33964.25"
   ]
  },
  {
   "cell_type": "markdown",
   "id": "7491b4d2-7d88-4695-9868-7a5c0e551c45",
   "metadata": {},
   "source": [
    "#### Exercise-1.3\n",
    "\n",
    "##### Using the meteorite data from the `Meteorite_Landings.csv` file, create a pivot table that shows both the number of meteorites and the 95th percentile of meteorite mass for those that were found versus observed falling per year from 2005 through 2009 (inclusive). \n",
    "\n",
    "Hint 1: Be sure to convert the `year` column to a number as we did in the previous exercise.\n",
    "\n",
    "Hint 2: There are missing values on mass."
   ]
  },
  {
   "cell_type": "code",
   "execution_count": null,
   "id": "c4f3be8c-1839-44f6-a57f-9566269c66a7",
   "metadata": {
    "scrolled": true
   },
   "outputs": [],
   "source": [
    "import numpy as np\n",
    "\n",
    "df = pd.read_csv('/Users/vlados/Documents/Uni/Data Science /data-science-project/data-science-project/notebooks/exercises/data/Meteorite_Landings.csv')\n",
    "df = df.rename(columns = {'mass (g)': 'mass'})\n",
    "df = df.assign(\n",
    "    year = lambda x: pd.to_numeric(x.year.str.slice(6,10)),\n",
    "    before1970 = lambda x: x.year < 1970,\n",
    "    mass = lambda x: x.mass.fillna(0)\n",
    ")\n",
    "#df.mass = df.mass.fillna(0)\n",
    "\n",
    "df_pivoted = df[(df.year >= 2005) & (df.year <= 2009)].pivot_table(\n",
    "    index='year', values='mass', aggfunc=['count', lambda x:np.percentile(x,95)]\n",
    ")\n"
   ]
  },
  {
   "cell_type": "code",
   "execution_count": null,
   "id": "2ae9c497-4fc7-4598-b7de-0d3b6bfd0b2a",
   "metadata": {
    "scrolled": true
   },
   "outputs": [],
   "source": [
    "assert df_pivoted.loc[2006][0] == 2456\n",
    "assert int(df_pivoted.loc[2006][1]) == 1722"
   ]
  }
 ],
 "metadata": {
  "kernelspec": {
   "display_name": "Python 3 (ipykernel)",
   "language": "python",
   "name": "python3"
  },
  "language_info": {
   "codemirror_mode": {
    "name": "ipython",
    "version": 3
   },
   "file_extension": ".py",
   "mimetype": "text/x-python",
   "name": "python",
   "nbconvert_exporter": "python",
   "pygments_lexer": "ipython3",
   "version": "3.12.2"
  }
 },
 "nbformat": 4,
 "nbformat_minor": 5
}
